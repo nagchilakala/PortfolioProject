{
 "cells": [
  {
   "cell_type": "code",
   "execution_count": 101,
   "metadata": {},
   "outputs": [],
   "source": [
    "# import all the required libraries\n",
    "import numpy as np\n",
    "import pandas as pd\n",
    "import matplotlib.pyplot as plt\n",
    "import seaborn as sns\n",
    "from sklearn.model_selection import train_test_split\n",
    "import xgboost as xgb\n",
    "import csv\n",
    "from scipy import stats\n",
    "from scipy.stats import norm, skew\n",
    "import seaborn as sns\n",
    "from sklearn.metrics import r2_score\n",
    "from sklearn.metrics import mean_squared_error\n",
    "from scipy.stats import pearsonr\n",
    "import geopy.distance"
   ]
  },
  {
   "cell_type": "code",
   "execution_count": 86,
   "metadata": {
    "scrolled": true
   },
   "outputs": [
    {
     "data": {
      "text/plain": [
       "((200000, 8), (9914, 7))"
      ]
     },
     "execution_count": 86,
     "metadata": {},
     "output_type": "execute_result"
    }
   ],
   "source": [
    "# Read the first 200k records from the train dataset that has 55 mil rows\n",
    "train = pd.read_csv('C:/Users/hchil/Desktop/CSU/Capstone project/train.csv', nrows= 200000)\n",
    "test = pd.read_csv('C:/Users/hchil/Desktop/CSU/Capstone project/test.csv')\n",
    "# display the number of rows and columns in train and test datasets \n",
    "train.shape, test.shape"
   ]
  },
  {
   "cell_type": "code",
   "execution_count": 87,
   "metadata": {},
   "outputs": [
    {
     "data": {
      "text/html": [
       "<div>\n",
       "<style scoped>\n",
       "    .dataframe tbody tr th:only-of-type {\n",
       "        vertical-align: middle;\n",
       "    }\n",
       "\n",
       "    .dataframe tbody tr th {\n",
       "        vertical-align: top;\n",
       "    }\n",
       "\n",
       "    .dataframe thead th {\n",
       "        text-align: right;\n",
       "    }\n",
       "</style>\n",
       "<table border=\"1\" class=\"dataframe\">\n",
       "  <thead>\n",
       "    <tr style=\"text-align: right;\">\n",
       "      <th></th>\n",
       "      <th>key</th>\n",
       "      <th>fare_amount</th>\n",
       "      <th>pickup_datetime</th>\n",
       "      <th>pickup_longitude</th>\n",
       "      <th>pickup_latitude</th>\n",
       "      <th>dropoff_longitude</th>\n",
       "      <th>dropoff_latitude</th>\n",
       "      <th>passenger_count</th>\n",
       "    </tr>\n",
       "  </thead>\n",
       "  <tbody>\n",
       "    <tr>\n",
       "      <th>0</th>\n",
       "      <td>2009-06-15 17:26:21.0000001</td>\n",
       "      <td>4.5</td>\n",
       "      <td>2009-06-15 17:26:21 UTC</td>\n",
       "      <td>-73.844311</td>\n",
       "      <td>40.721319</td>\n",
       "      <td>-73.841610</td>\n",
       "      <td>40.712278</td>\n",
       "      <td>1</td>\n",
       "    </tr>\n",
       "    <tr>\n",
       "      <th>1</th>\n",
       "      <td>2010-01-05 16:52:16.0000002</td>\n",
       "      <td>16.9</td>\n",
       "      <td>2010-01-05 16:52:16 UTC</td>\n",
       "      <td>-74.016048</td>\n",
       "      <td>40.711303</td>\n",
       "      <td>-73.979268</td>\n",
       "      <td>40.782004</td>\n",
       "      <td>1</td>\n",
       "    </tr>\n",
       "    <tr>\n",
       "      <th>2</th>\n",
       "      <td>2011-08-18 00:35:00.00000049</td>\n",
       "      <td>5.7</td>\n",
       "      <td>2011-08-18 00:35:00 UTC</td>\n",
       "      <td>-73.982738</td>\n",
       "      <td>40.761270</td>\n",
       "      <td>-73.991242</td>\n",
       "      <td>40.750562</td>\n",
       "      <td>2</td>\n",
       "    </tr>\n",
       "    <tr>\n",
       "      <th>3</th>\n",
       "      <td>2012-04-21 04:30:42.0000001</td>\n",
       "      <td>7.7</td>\n",
       "      <td>2012-04-21 04:30:42 UTC</td>\n",
       "      <td>-73.987130</td>\n",
       "      <td>40.733143</td>\n",
       "      <td>-73.991567</td>\n",
       "      <td>40.758092</td>\n",
       "      <td>1</td>\n",
       "    </tr>\n",
       "    <tr>\n",
       "      <th>4</th>\n",
       "      <td>2010-03-09 07:51:00.000000135</td>\n",
       "      <td>5.3</td>\n",
       "      <td>2010-03-09 07:51:00 UTC</td>\n",
       "      <td>-73.968095</td>\n",
       "      <td>40.768008</td>\n",
       "      <td>-73.956655</td>\n",
       "      <td>40.783762</td>\n",
       "      <td>1</td>\n",
       "    </tr>\n",
       "  </tbody>\n",
       "</table>\n",
       "</div>"
      ],
      "text/plain": [
       "                             key  fare_amount          pickup_datetime  \\\n",
       "0    2009-06-15 17:26:21.0000001          4.5  2009-06-15 17:26:21 UTC   \n",
       "1    2010-01-05 16:52:16.0000002         16.9  2010-01-05 16:52:16 UTC   \n",
       "2   2011-08-18 00:35:00.00000049          5.7  2011-08-18 00:35:00 UTC   \n",
       "3    2012-04-21 04:30:42.0000001          7.7  2012-04-21 04:30:42 UTC   \n",
       "4  2010-03-09 07:51:00.000000135          5.3  2010-03-09 07:51:00 UTC   \n",
       "\n",
       "   pickup_longitude  pickup_latitude  dropoff_longitude  dropoff_latitude  \\\n",
       "0        -73.844311        40.721319         -73.841610         40.712278   \n",
       "1        -74.016048        40.711303         -73.979268         40.782004   \n",
       "2        -73.982738        40.761270         -73.991242         40.750562   \n",
       "3        -73.987130        40.733143         -73.991567         40.758092   \n",
       "4        -73.968095        40.768008         -73.956655         40.783762   \n",
       "\n",
       "   passenger_count  \n",
       "0                1  \n",
       "1                1  \n",
       "2                2  \n",
       "3                1  \n",
       "4                1  "
      ]
     },
     "execution_count": 87,
     "metadata": {},
     "output_type": "execute_result"
    }
   ],
   "source": [
    "# Display top 5 rows\n",
    "train.head()"
   ]
  },
  {
   "cell_type": "code",
   "execution_count": 88,
   "metadata": {},
   "outputs": [
    {
     "data": {
      "text/html": [
       "<div>\n",
       "<style scoped>\n",
       "    .dataframe tbody tr th:only-of-type {\n",
       "        vertical-align: middle;\n",
       "    }\n",
       "\n",
       "    .dataframe tbody tr th {\n",
       "        vertical-align: top;\n",
       "    }\n",
       "\n",
       "    .dataframe thead th {\n",
       "        text-align: right;\n",
       "    }\n",
       "</style>\n",
       "<table border=\"1\" class=\"dataframe\">\n",
       "  <thead>\n",
       "    <tr style=\"text-align: right;\">\n",
       "      <th></th>\n",
       "      <th>fare_amount</th>\n",
       "      <th>pickup_longitude</th>\n",
       "      <th>pickup_latitude</th>\n",
       "      <th>dropoff_longitude</th>\n",
       "      <th>dropoff_latitude</th>\n",
       "      <th>passenger_count</th>\n",
       "    </tr>\n",
       "  </thead>\n",
       "  <tbody>\n",
       "    <tr>\n",
       "      <th>count</th>\n",
       "      <td>200000.000000</td>\n",
       "      <td>200000.000000</td>\n",
       "      <td>200000.000000</td>\n",
       "      <td>199999.000000</td>\n",
       "      <td>199999.000000</td>\n",
       "      <td>200000.000000</td>\n",
       "    </tr>\n",
       "    <tr>\n",
       "      <th>mean</th>\n",
       "      <td>11.342877</td>\n",
       "      <td>-72.506121</td>\n",
       "      <td>39.922326</td>\n",
       "      <td>-72.518673</td>\n",
       "      <td>39.925579</td>\n",
       "      <td>1.682445</td>\n",
       "    </tr>\n",
       "    <tr>\n",
       "      <th>std</th>\n",
       "      <td>9.837855</td>\n",
       "      <td>11.608097</td>\n",
       "      <td>10.048947</td>\n",
       "      <td>10.724226</td>\n",
       "      <td>6.751120</td>\n",
       "      <td>1.306730</td>\n",
       "    </tr>\n",
       "    <tr>\n",
       "      <th>min</th>\n",
       "      <td>-44.900000</td>\n",
       "      <td>-736.550000</td>\n",
       "      <td>-3116.285383</td>\n",
       "      <td>-1251.195890</td>\n",
       "      <td>-1189.615440</td>\n",
       "      <td>0.000000</td>\n",
       "    </tr>\n",
       "    <tr>\n",
       "      <th>25%</th>\n",
       "      <td>6.000000</td>\n",
       "      <td>-73.992050</td>\n",
       "      <td>40.735007</td>\n",
       "      <td>-73.991295</td>\n",
       "      <td>40.734092</td>\n",
       "      <td>1.000000</td>\n",
       "    </tr>\n",
       "    <tr>\n",
       "      <th>50%</th>\n",
       "      <td>8.500000</td>\n",
       "      <td>-73.981743</td>\n",
       "      <td>40.752761</td>\n",
       "      <td>-73.980072</td>\n",
       "      <td>40.753225</td>\n",
       "      <td>1.000000</td>\n",
       "    </tr>\n",
       "    <tr>\n",
       "      <th>75%</th>\n",
       "      <td>12.500000</td>\n",
       "      <td>-73.967068</td>\n",
       "      <td>40.767127</td>\n",
       "      <td>-73.963508</td>\n",
       "      <td>40.768070</td>\n",
       "      <td>2.000000</td>\n",
       "    </tr>\n",
       "    <tr>\n",
       "      <th>max</th>\n",
       "      <td>500.000000</td>\n",
       "      <td>2140.601160</td>\n",
       "      <td>1703.092772</td>\n",
       "      <td>40.851027</td>\n",
       "      <td>404.616667</td>\n",
       "      <td>6.000000</td>\n",
       "    </tr>\n",
       "  </tbody>\n",
       "</table>\n",
       "</div>"
      ],
      "text/plain": [
       "         fare_amount  pickup_longitude  pickup_latitude  dropoff_longitude  \\\n",
       "count  200000.000000     200000.000000    200000.000000      199999.000000   \n",
       "mean       11.342877        -72.506121        39.922326         -72.518673   \n",
       "std         9.837855         11.608097        10.048947          10.724226   \n",
       "min       -44.900000       -736.550000     -3116.285383       -1251.195890   \n",
       "25%         6.000000        -73.992050        40.735007         -73.991295   \n",
       "50%         8.500000        -73.981743        40.752761         -73.980072   \n",
       "75%        12.500000        -73.967068        40.767127         -73.963508   \n",
       "max       500.000000       2140.601160      1703.092772          40.851027   \n",
       "\n",
       "       dropoff_latitude  passenger_count  \n",
       "count     199999.000000    200000.000000  \n",
       "mean          39.925579         1.682445  \n",
       "std            6.751120         1.306730  \n",
       "min        -1189.615440         0.000000  \n",
       "25%           40.734092         1.000000  \n",
       "50%           40.753225         1.000000  \n",
       "75%           40.768070         2.000000  \n",
       "max          404.616667         6.000000  "
      ]
     },
     "execution_count": 88,
     "metadata": {},
     "output_type": "execute_result"
    }
   ],
   "source": [
    "# show statistics \n",
    "train.describe()"
   ]
  },
  {
   "cell_type": "code",
   "execution_count": 89,
   "metadata": {},
   "outputs": [
    {
     "data": {
      "text/plain": [
       "dropoff_latitude     1\n",
       "dropoff_longitude    1\n",
       "fare_amount          0\n",
       "key                  0\n",
       "passenger_count      0\n",
       "pickup_datetime      0\n",
       "pickup_latitude      0\n",
       "pickup_longitude     0\n",
       "dtype: int64"
      ]
     },
     "execution_count": 89,
     "metadata": {},
     "output_type": "execute_result"
    }
   ],
   "source": [
    "# Identify the total missing values for each feature\n",
    "train.isnull().sum().sort_index()"
   ]
  },
  {
   "cell_type": "code",
   "execution_count": 90,
   "metadata": {},
   "outputs": [],
   "source": [
    "# convert the key as datetime\n",
    "train['key'] = pd.to_datetime(train['key'])\n",
    "key = test.key\n",
    "# convert the key and pickup as datetime\n",
    "test['key'] = pd.to_datetime(test['key'])\n",
    "train['pickup_datetime']  = pd.to_datetime(train['pickup_datetime']) \n",
    "test['pickup_datetime']  = pd.to_datetime(test['pickup_datetime'])"
   ]
  },
  {
   "cell_type": "code",
   "execution_count": 91,
   "metadata": {},
   "outputs": [],
   "source": [
    "train['Year'] = train['pickup_datetime'].dt.year     # extract the year and store it in a year column    \n",
    "train['Month'] = train['pickup_datetime'].dt.month     # extract the month and store it in a month column\n",
    "train['Date'] = train['pickup_datetime'].dt.day       # extract the day and store it in a date column \n",
    "train['Day of Week'] = train['pickup_datetime'].dt.dayofweek  # extract the dayofweek and store it \n",
    "train['Hour'] = train['pickup_datetime'].dt.hour       # extract the Hour and store it\n",
    "train.drop('pickup_datetime', axis = 1, inplace = True)  # drop pick datetime and update the dataframe \n",
    "train.drop('key', axis = 1, inplace = True)             # drop key and update the dataframe\n",
    "# repeat the above process on test dataset \n",
    "test['Year'] = test['pickup_datetime'].dt.year\n",
    "test['Month'] = test['pickup_datetime'].dt.month\n",
    "test['Date'] = test['pickup_datetime'].dt.day\n",
    "test['Day of Week'] = test['pickup_datetime'].dt.dayofweek\n",
    "test['Hour'] = test['pickup_datetime'].dt.hour\n",
    "test.drop('pickup_datetime', axis = 1, inplace = True)\n",
    "test.drop('key', axis = 1, inplace = True)"
   ]
  },
  {
   "cell_type": "code",
   "execution_count": 92,
   "metadata": {},
   "outputs": [],
   "source": [
    "# drop the records that has missing values\n",
    "train.dropna(inplace=True)\n",
    "# drop the records that meet the below condition\n",
    "train.drop(train.index[(train.pickup_longitude < -75) | \n",
    "           (train.pickup_longitude > -72) | \n",
    "           (train.pickup_latitude < 40) | \n",
    "           (train.pickup_latitude > 42)],inplace=True)\n",
    "train.drop(train.index[(train.dropoff_longitude < -75) | \n",
    "           (train.dropoff_longitude > -72) | \n",
    "           (train.dropoff_latitude < 40) | \n",
    "           (train.dropoff_latitude > 42)],inplace=True)"
   ]
  },
  {
   "cell_type": "code",
   "execution_count": 93,
   "metadata": {},
   "outputs": [],
   "source": [
    "\n",
    "# copy the fare amount to a variable called y and rest of the dataset to X, split the data into train and test\n",
    "# 25% into the test dataset and 75 into train\n",
    "X, y = train.drop('fare_amount', axis = 1), train['fare_amount']\n",
    "X_train, X_test, y_train, y_test = train_test_split(X, y, test_size=0.25, random_state=12)\n",
    "\n",
    "# function to calculate the distnace between the starting and ending points of the trip \n",
    "def geo_dist(trip):\n",
    "    pickup_lat = trip['pickup_latitude']\n",
    "    pickup_long = trip['pickup_longitude']\n",
    "    dropoff_lat = trip['dropoff_latitude']\n",
    "    dropoff_long = trip['dropoff_longitude']\n",
    "    distance = geopy.distance.geodesic((pickup_lat, pickup_long), \n",
    "                                       (dropoff_lat, dropoff_long)).miles\n",
    "    try:\n",
    "        return distance\n",
    "    except ValueError:\n",
    "        return np.nan\n",
    "# function to calculate the circle distnace between the starting and ending points of the trip \n",
    "def clr_dist(trip):\n",
    "    pickup_lat = trip['pickup_latitude']\n",
    "    pickup_long = trip['pickup_longitude']\n",
    "    dropoff_lat = trip['dropoff_latitude']\n",
    "    dropoff_long = trip['dropoff_longitude']\n",
    "    distance = geopy.distance.great_circle((pickup_lat, pickup_long), \n",
    "                                       (dropoff_lat, dropoff_long)).miles\n",
    "    try:\n",
    "        return distance\n",
    "    except ValueError:\n",
    "        return np.nan\n",
    "# add the distances to the original train dataset \n",
    "train['geo'] = train.apply(lambda x: geo_dist(x), axis = 1 )\n",
    "train['clr'] = train.apply(lambda x: clr_dist(x), axis = 1 )"
   ]
  },
  {
   "cell_type": "code",
   "execution_count": 94,
   "metadata": {},
   "outputs": [
    {
     "data": {
      "text/plain": [
       "0.7971350001604671"
      ]
     },
     "execution_count": 94,
     "metadata": {},
     "output_type": "execute_result"
    }
   ],
   "source": [
    "# calculate the pearson's correlation between the distance and fareamount\n",
    "data1 = train['geo']\n",
    "data2 = y\n",
    "corr, _ = pearsonr(data1, data2)\n",
    "corr"
   ]
  },
  {
   "cell_type": "code",
   "execution_count": 95,
   "metadata": {},
   "outputs": [
    {
     "name": "stdout",
     "output_type": "stream",
     "text": [
      "[16:32:10] WARNING: C:/Users/Administrator/workspace/xgboost-win64_release_1.3.0/src/learner.cc:541: \n",
      "Parameters: { n_estimators, silent } might not be used.\n",
      "\n",
      "  This may not be accurate due to some parameters are only used in language bindings but\n",
      "  passed down to XGBoost core.  Or some parameters are not used but slip through this\n",
      "  verification. Please open an issue if you find above cases.\n",
      "\n",
      "\n",
      "[0]\ttrain-rmse:14.07797\tvalid-rmse:13.95956\n",
      "[50]\ttrain-rmse:4.17595\tvalid-rmse:4.76213\n",
      "[100]\ttrain-rmse:3.33889\tvalid-rmse:4.29070\n",
      "[150]\ttrain-rmse:2.97208\tvalid-rmse:4.15828\n",
      "[200]\ttrain-rmse:2.75271\tvalid-rmse:4.10570\n",
      "[250]\ttrain-rmse:2.56924\tvalid-rmse:4.06889\n",
      "[300]\ttrain-rmse:2.41249\tvalid-rmse:4.04634\n",
      "[350]\ttrain-rmse:2.31167\tvalid-rmse:4.03833\n",
      "[400]\ttrain-rmse:2.20542\tvalid-rmse:4.02612\n",
      "[450]\ttrain-rmse:2.10472\tvalid-rmse:4.01968\n",
      "[500]\ttrain-rmse:2.02634\tvalid-rmse:4.01640\n",
      "[550]\ttrain-rmse:1.94366\tvalid-rmse:4.01175\n",
      "[600]\ttrain-rmse:1.87846\tvalid-rmse:4.00998\n",
      "[650]\ttrain-rmse:1.80947\tvalid-rmse:4.00925\n",
      "[699]\ttrain-rmse:1.75735\tvalid-rmse:4.00715\n"
     ]
    }
   ],
   "source": [
    "#The preset parameters will be used to train a booster for 700 rounds and \n",
    "#the loss score has to improve at least once every 100 rounds. \n",
    "dtrain = xgb.DMatrix(X_train, label=y_train)\n",
    "dvalid = xgb.DMatrix(X_test, label=y_test)\n",
    "dtest = xgb.DMatrix(test)\n",
    "watchlist = [(dtrain, 'train'), (dvalid, 'valid')]\n",
    "\n",
    "xgb_params = {\n",
    "    'min_child_weight': 1, \n",
    "    'learning_rate': 0.05, \n",
    "    'colsample_bytree': 0.7, \n",
    "    'max_depth': 10,\n",
    "    'subsample': 0.7,\n",
    "    'n_estimators': 5000,\n",
    "    'n_jobs': -1, \n",
    "    'booster' : 'gbtree', \n",
    "    'silent': 1,\n",
    "    'eval_metric': 'rmse'}\n",
    "\n",
    "model = xgb.train(xgb_params, dtrain, 700, watchlist, early_stopping_rounds=100, maximize=False, verbose_eval=50)"
   ]
  },
  {
   "cell_type": "code",
   "execution_count": 96,
   "metadata": {},
   "outputs": [
    {
     "name": "stdout",
     "output_type": "stream",
     "text": [
      "Train r2 score:  0.9651274344257993\n",
      "Test r2 score:  0.827458003575317\n",
      "Train_RMSE 1.7573596052924572\n",
      "Test_RMSE 4.007157248278734\n"
     ]
    }
   ],
   "source": [
    "# find the accuracy of the model using train and test datasets\n",
    "#Display the R2-squared and Mean_squared_error\n",
    "y_train_pred = model.predict(dtrain)\n",
    "y_pred = model.predict(dvalid)\n",
    "print('Train r2 score: ', r2_score(y_train_pred, y_train))\n",
    "print('Test r2 score: ', r2_score(y_test, y_pred))\n",
    "train_rmse = np.sqrt(mean_squared_error(y_train_pred, y_train))\n",
    "test_rmse = np.sqrt(mean_squared_error(y_test, y_pred))\n",
    "print('Train_RMSE {}'.format(train_rmse))\n",
    "print('Test_RMSE {}'.format(test_rmse))"
   ]
  },
  {
   "cell_type": "code",
   "execution_count": 97,
   "metadata": {},
   "outputs": [
    {
     "data": {
      "text/plain": [
       "array([ 8.706603 ,  9.4089775,  4.9358406, ..., 52.49838  , 21.453142 ,\n",
       "        6.176689 ], dtype=float32)"
      ]
     },
     "execution_count": 97,
     "metadata": {},
     "output_type": "execute_result"
    }
   ],
   "source": [
    "# Predict the fare amount for the test database \n",
    "test_preds = model.predict(dtest)\n",
    "test_preds"
   ]
  },
  {
   "cell_type": "code",
   "execution_count": 98,
   "metadata": {},
   "outputs": [
    {
     "data": {
      "image/png": "[encoded data removed]",
      "text/plain": [
       "<Figure size 720x576 with 2 Axes>"
      ]
     },
     "metadata": {
      "needs_background": "light"
     },
     "output_type": "display_data"
    }
   ],
   "source": [
    "# Plot the Pearson's correlation graph\n",
    "plt.figure(figsize=(10, 8))\n",
    "sns.heatmap(train.drop('fare_amount', axis=1).corr(), square=True)\n",
    "plt.suptitle('Pearson Correlation Heatmap')\n",
    "plt.show();"
   ]
  },
  {
   "cell_type": "code",
   "execution_count": 99,
   "metadata": {},
   "outputs": [
    {
     "name": "stderr",
     "output_type": "stream",
     "text": [
      "C:\\Users\\hchil\\Anaconda3\\lib\\site-packages\\ipykernel_launcher.py:10: UserWarning: Matplotlib is currently using module://ipykernel.pylab.backend_inline, which is a non-GUI backend, so cannot show the figure.\n",
      "  # Remove the CWD from sys.path while we load stuff.\n"
     ]
    },
    {
     "data": {
      "image/png": "[encoded data removed]",
      "text/plain": [
       "<Figure size 1368x360 with 2 Axes>"
      ]
     },
     "metadata": {
      "needs_background": "light"
     },
     "output_type": "display_data"
    }
   ],
   "source": [
    "# visualize the distance distribution and probability plot\n",
    "(mu, sigma) = norm.fit(train['geo'])\n",
    "f, (ax1, ax2) = plt.subplots(1, 2, figsize=(19, 5))\n",
    "ax1 = sns.distplot(train['geo'] , fit=norm, ax=ax1)\n",
    "ax1.legend([f'Normal distribution ($\\mu=$ {mu:.3f} and $\\sigma=$ {sigma:.3f})'], loc='best')\n",
    "ax1.set_ylabel('Frequency')\n",
    "ax1.set_title('Distance Distribution')\n",
    "ax2 = stats.probplot(train['geo'], plot=plt)\n",
    "f.show();"
   ]
  }
 ],
 "metadata": {
  "kernelspec": {
   "display_name": "Python 3",
   "language": "python",
   "name": "python3"
  },
  "language_info": {
   "codemirror_mode": {
    "name": "ipython",
    "version": 3
   },
   "file_extension": ".py",
   "mimetype": "text/x-python",
   "name": "python",
   "nbconvert_exporter": "python",
   "pygments_lexer": "ipython3",
   "version": "3.6.10"
  }
 },
 "nbformat": 4,
 "nbformat_minor": 4
}
